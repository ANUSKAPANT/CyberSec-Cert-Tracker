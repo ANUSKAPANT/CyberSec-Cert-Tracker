{
 "cells": [
  {
   "cell_type": "code",
   "execution_count": 1,
   "metadata": {},
   "outputs": [
    {
     "name": "stdout",
     "output_type": "stream",
     "text": [
      "\u001b[31mERROR: Could not find an activated virtualenv (required).\u001b[0m\n",
      "Note: you may need to restart the kernel to use updated packages.\n",
      "\u001b[31mERROR: Could not find an activated virtualenv (required).\u001b[0m\n",
      "Note: you may need to restart the kernel to use updated packages.\n"
     ]
    }
   ],
   "source": [
    "%pip install numpy\n",
    "%pip install pandas"
   ]
  },
  {
   "cell_type": "code",
   "execution_count": 2,
   "metadata": {},
   "outputs": [],
   "source": [
    "import numpy as np\n",
    "import pandas as pd"
   ]
  },
  {
   "cell_type": "code",
   "execution_count": 3,
   "metadata": {},
   "outputs": [],
   "source": [
    "df_first_names = pd.read_csv('top_100_names.tsv', sep='\\t')\n",
    "df_last_names = pd.read_csv('last_names.tsv', sep='\\t')\n",
    "\n",
    "first_names = df_first_names.male.tolist() + df_first_names.female.tolist()\n",
    "last_names = df_last_names.Name.tolist()\n",
    "universities = open('universities.txt').read().splitlines()\n"
   ]
  },
  {
   "cell_type": "code",
   "execution_count": 4,
   "metadata": {},
   "outputs": [],
   "source": [
    "titles = ['Student', 'Teacher', 'Data Scientist', 'Network Administrator', 'Lead Associate', 'System Administrator', 'Owner', 'Netowork Engineer', 'Cyber Security Analyst', 'IT Specialist', 'Programmer/Analyst', 'CTE Teacher', 'Applications Developer', 'COP Manager', 'Graduate Assistant', 'Desktop Support Specialist']\n",
    "courses = ['O-CYBER: CompTIA Security+ Certificate Prep (SY0-501)', 'O-CYBER: Cybersecurity Fundamentals for Teachers Summer Camp', 'O-CYBER: CompTIA Network+ Certificate Prep (N10-007)', 'O-CYBER: CompTIA Security+ Prep Course for DCLDP (501)', 'DCLDP - 2021']\n",
    "companies = ['Apple', 'Google', 'Tesla', 'Microsoft', 'Netflix', 'Meta', 'Amazon', 'Salesforce']\n",
    "# cert_names = ['']\n",
    "# vouchers = ['']\n"
   ]
  },
  {
   "cell_type": "code",
   "execution_count": 5,
   "metadata": {},
   "outputs": [],
   "source": [
    "import random\n",
    "import time\n",
    "    \n",
    "def str_time_prop(start, end, time_format, prop):\n",
    "    \"\"\"Get a time at a proportion of a range of two formatted times.\n",
    "\n",
    "    start and end should be strings specifying times formatted in the\n",
    "    given format (strftime-style), giving an interval [start, end].\n",
    "    prop specifies how a proportion of the interval to be taken after\n",
    "    start.  The returned time will be in the specified format.\n",
    "    \"\"\"\n",
    "\n",
    "    stime = time.mktime(time.strptime(start, time_format))\n",
    "    etime = time.mktime(time.strptime(end, time_format))\n",
    "\n",
    "    ptime = stime + prop * (etime - stime)\n",
    "\n",
    "    return time.strftime(time_format, time.localtime(ptime))\n",
    "\n",
    "\n",
    "def random_date(start, end, prop):\n",
    "    return str_time_prop(start, end, '%m/%d/%Y %I:%M %p', prop)\n",
    "    "
   ]
  },
  {
   "cell_type": "code",
   "execution_count": 6,
   "metadata": {},
   "outputs": [],
   "source": [
    "canvas_headers = ['Id', 'Student Name' 'Student Email', 'Listing Name', 'Created At', 'Completed At']\n",
    "tees_headers = ['Full Name', 'Email Address', 'Company Name', 'Title']"
   ]
  },
  {
   "cell_type": "code",
   "execution_count": 7,
   "metadata": {},
   "outputs": [],
   "source": [
    "def add_new_course(result):\n",
    "    created_at = random_date(\"1/1/2008 1:30 PM\", \"1/1/2020 4:50 AM\", random.random())\n",
    "    completed_at = random_date(created_at, \"1/1/2020 4:50 AM\", random.random())\n",
    "    result['Listing Name'] = np.random.choice(courses)\n",
    "    result['Created At'] = created_at\n",
    "    result['Completed At'] = completed_at if np.random.rand()<0.5 else None\n",
    "    return result\n"
   ]
  },
  {
   "cell_type": "code",
   "execution_count": 12,
   "metadata": {},
   "outputs": [],
   "source": [
    "def create_canvas_csv(num_students):\n",
    "    results = []\n",
    "    gen_emails = set()\n",
    "    while len(gen_emails) < num_students:\n",
    "        first_name = np.random.choice(first_names)\n",
    "        last_name = np.random.choice(last_names)\n",
    "        email = first_name.lower() + '.' + last_name.lower() + '@example.com'\n",
    "        if email in gen_emails:\n",
    "            continue\n",
    "        gen_emails.add(email)\n",
    "        created_at = random_date(\"1/1/2008 1:30 PM\", \"1/1/2020 4:50 AM\", random.random())\n",
    "        completed_at = random_date(created_at, \"1/1/2020 4:50 AM\", random.random())\n",
    "        result = {  'Id': np.random.randint(1000000,900000000),\n",
    "                    'Student Name': first_name + \" \" + last_name,\n",
    "                    'Student Email': email,\n",
    "                    'Listing Name': np.random.choice(courses),\n",
    "                    'Created At': created_at,\n",
    "                    'Completed At': completed_at if np.random.rand()<0.5 else None\n",
    "                }\n",
    "        # multiple courses\n",
    "        random_state = np.random.rand()\n",
    "        results.append(result)\n",
    "        if random_state>0.5:\n",
    "            result2 = add_new_course(result.copy())\n",
    "            results.append(result2)\n",
    "        if random_state>0.67:\n",
    "            result3 = add_new_course(result.copy())\n",
    "            results.append(result3)\n",
    "        if random_state>0.75:\n",
    "            result4 = add_new_course(result.copy())\n",
    "            results.append(result4)\n",
    "        df = pd.DataFrame(results)\n",
    "    df.to_csv('dummy_canvas.csv', index=False)\n",
    "    return df\n",
    "\n",
    "\n",
    "        "
   ]
  },
  {
   "cell_type": "code",
   "execution_count": 13,
   "metadata": {},
   "outputs": [],
   "source": [
    "def create_tees_csv(canvas_df):\n",
    "    canvas_df =canvas_df.drop_duplicates(subset=['Student Email'])\n",
    "    df = canvas_df.drop(columns=['Id', \"Listing Name\", \"Created At\", \"Completed At\"])\n",
    "    df['Full Name'] = df['Student Name']\n",
    "    df['Company Name']  = 'Unknown'\n",
    "    for _,row in df.iterrows():\n",
    "        row['Full Name'] = ', '.join(row['Student Name'].split(' ')[::-1])\n",
    "        row['Company Name'] = np.random.choice(companies)\n",
    "        row['Title'] = np.random.choice(titles)\n",
    "    df['Email Address'] = df['Student Email']\n",
    "    df = df.drop(columns=['Student Name', 'Student Email'])\n",
    "    df.to_csv('dummy_tees.csv', index=False)\n",
    "    return df"
   ]
  },
  {
   "cell_type": "code",
   "execution_count": 14,
   "metadata": {},
   "outputs": [],
   "source": [
    "canvas_df = create_canvas_csv(100)"
   ]
  },
  {
   "cell_type": "code",
   "execution_count": 15,
   "metadata": {},
   "outputs": [],
   "source": [
    "tees_df = create_tees_csv(canvas_df)"
   ]
  },
  {
   "cell_type": "code",
   "execution_count": null,
   "metadata": {},
   "outputs": [],
   "source": []
  }
 ],
 "metadata": {
  "kernelspec": {
   "display_name": "Python 3.7.4 ('hyspa')",
   "language": "python",
   "name": "python3"
  },
  "language_info": {
   "codemirror_mode": {
    "name": "ipython",
    "version": 3
   },
   "file_extension": ".py",
   "mimetype": "text/x-python",
   "name": "python",
   "nbconvert_exporter": "python",
   "pygments_lexer": "ipython3",
   "version": "3.7.4"
  },
  "orig_nbformat": 4,
  "vscode": {
   "interpreter": {
    "hash": "6d5f5551dd2f729d3d11bcfbfc4377c5d1097360b0c3edbd7bb3aa34e91bdad3"
   }
  }
 },
 "nbformat": 4,
 "nbformat_minor": 2
}
